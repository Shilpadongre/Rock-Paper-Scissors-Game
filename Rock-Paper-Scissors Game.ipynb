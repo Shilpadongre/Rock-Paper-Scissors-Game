{
 "cells": [
  {
   "cell_type": "code",
   "execution_count": 18,
   "id": "e6a6057b",
   "metadata": {},
   "outputs": [
    {
     "name": "stdout",
     "output_type": "stream",
     "text": [
      "Press 1 for Rock, 2 for Paper, 3 for Scissors: 3\n",
      "You chose: Scissors\n",
      "Computer chose: Scissors\n",
      "It's a tie!\n",
      "\n",
      "Press 1 for Rock, 2 for Paper, 3 for Scissors: 1\n",
      "You chose: Rock\n",
      "Computer chose: Scissors\n",
      "You won this round!\n",
      "\n",
      "Press 1 for Rock, 2 for Paper, 3 for Scissors: 2\n",
      "You chose: Paper\n",
      "Computer chose: Rock\n",
      "You won this round!\n",
      "\n",
      "Your score: 2\n",
      "Computer's score: 0\n",
      "Congratulations....You won most rounds!\n"
     ]
    }
   ],
   "source": [
    "import random\n",
    "\n",
    "options = ['Rock', 'Paper', 'Scissors']\n",
    "\n",
    "userScore, computerScore = 0, 0\n",
    "totalRounds = 3\n",
    "\n",
    "for i in range(totalRounds):\n",
    "    userOption = int(input('Press 1 for Rock, 2 for Paper, 3 for Scissors: '))\n",
    "    userChoice = options[userOption-1]\n",
    "\n",
    "    computerChoice = options[random.randint(0,2)]\n",
    "\n",
    "    print(f'You chose: {userChoice}')\n",
    "    print(f'Computer chose: {computerChoice}')\n",
    "\n",
    "    result = \"It's a tie!\"\n",
    "\n",
    "    if userChoice == \"Rock\":\n",
    "        if computerChoice == \"Paper\":\n",
    "            result = \"Computer won this round!\"\n",
    "            computerScore += 1\n",
    "        elif computerChoice == \"Scissors\":\n",
    "            result = \"You won this round!\"\n",
    "            userScore += 1\n",
    "\n",
    "    elif userChoice == \"Paper\":\n",
    "        if computerChoice == \"Scissors\":\n",
    "            result = \"Computer won this round!\"\n",
    "            computerScore += 1\n",
    "        elif computerChoice == \"Rock\":\n",
    "            result = \"You won this round!\"\n",
    "            userScore += 1\n",
    "\n",
    "    elif userChoice == \"Scissors\":\n",
    "        if computerChoice == \"Rock\":\n",
    "            result = \"Computer won this round!\"\n",
    "            computerScore += 1\n",
    "        elif computerChoice == \"Paper\":\n",
    "            result = \"You won this round!\"\n",
    "            userScore += 1\n",
    "    \n",
    "    print(result + '\\n')\n",
    "\n",
    "print(f'Your score: {userScore}')\n",
    "print(f\"Computer's score: {computerScore}\")\n",
    "\n",
    "if userScore > computerScore:\n",
    "    print('Congratulations....You won most rounds!')\n",
    "elif computerScore > userScore:\n",
    "    print('Oops! Computer won most rounds!')\n",
    "else: \n",
    "    print(\"It's a draw\")"
   ]
  },
  {
   "cell_type": "code",
   "execution_count": null,
   "id": "c1e1f3e2",
   "metadata": {},
   "outputs": [],
   "source": []
  }
 ],
 "metadata": {
  "kernelspec": {
   "display_name": "Python 3 (ipykernel)",
   "language": "python",
   "name": "python3"
  },
  "language_info": {
   "codemirror_mode": {
    "name": "ipython",
    "version": 3
   },
   "file_extension": ".py",
   "mimetype": "text/x-python",
   "name": "python",
   "nbconvert_exporter": "python",
   "pygments_lexer": "ipython3",
   "version": "3.9.12"
  }
 },
 "nbformat": 4,
 "nbformat_minor": 5
}
